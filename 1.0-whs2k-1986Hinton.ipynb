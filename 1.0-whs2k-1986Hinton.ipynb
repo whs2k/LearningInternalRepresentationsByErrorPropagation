{
 "cells": [
  {
   "cell_type": "markdown",
   "metadata": {},
   "source": [
    "# Initalize a single Hidden Layer Network"
   ]
  },
  {
   "cell_type": "code",
   "execution_count": 8,
   "metadata": {
    "collapsed": false
   },
   "outputs": [],
   "source": [
    "def initialize_netowrk(n_inputs, n_hidden, n_outputs):\n",
    "    network = list()\n",
    "    hiddden_layer = [{'weights':[random() for i in range(n_inputs+1)]} for i in range(n_hidden)]\n",
    "    network.append(hiddden_layer)\n",
    "    output_layer = [{'weights':[random() for i in range(n_hidden+1)]} for i in range(n_outputs)]\n",
    "    network.append(output_layer)\n",
    "    return network"
   ]
  },
  {
   "cell_type": "markdown",
   "metadata": {},
   "source": [
    "## Test Output"
   ]
  },
  {
   "cell_type": "code",
   "execution_count": 87,
   "metadata": {
    "collapsed": false
   },
   "outputs": [
    {
     "name": "stdout",
     "output_type": "stream",
     "text": [
      "\n",
      "Layer 1: [{'weights': [0.13436424411240122, 0.8474337369372327, 0.763774618976614]}]\n",
      "\n",
      "Layer 2: [{'weights': [0.2550690257394217, 0.49543508709194095]}, {'weights': [0.4494910647887381, 0.651592972722763]}, {'weights': [0.7887233511355132, 0.0938595867742349]}]\n"
     ]
    }
   ],
   "source": [
    "from random import seed\n",
    "from random import random\n",
    "seed(1)\n",
    "network = initialize_netowrk(2,1,3)\n",
    "i=1\n",
    "for layer in network:\n",
    "    print()\n",
    "    print('Layer {}: {}'.format(i, layer))\n",
    "    i= i+1\n",
    "          "
   ]
  },
  {
   "cell_type": "markdown",
   "metadata": {},
   "source": [
    "# Forward Prop\n",
    "Generating Predictions that suck on purpose"
   ]
  },
  {
   "cell_type": "markdown",
   "metadata": {},
   "source": [
    "## Neuron Activation Function"
   ]
  },
  {
   "cell_type": "code",
   "execution_count": 88,
   "metadata": {
    "collapsed": true
   },
   "outputs": [],
   "source": [
    "#activation = sum(weights*inputs) + bias\n",
    "\n",
    "def activation_function(weights, inputs):\n",
    "    activation = weights[-1]\n",
    "    for i in range(len(weights) - 1):\n",
    "        activation += weights[i] * inputs[i]\n",
    "    return activation"
   ]
  },
  {
   "cell_type": "markdown",
   "metadata": {},
   "source": [
    "## Neuron Transfer Function\n",
    "We're going to use softmax cuz, multiclass is more fun"
   ]
  },
  {
   "cell_type": "code",
   "execution_count": 110,
   "metadata": {
    "collapsed": false
   },
   "outputs": [],
   "source": [
    "from math import exp\n",
    "import numpy as np\n",
    "'''e ^ (x - max(x)) / sum(e^(x - max(x))\n",
    "By using the fact that a^(b - c) = (a^b)/(a^c) we have\n",
    "\n",
    "= e ^ x / e ^ max(x) * sum(e ^ x / e ^ max(x))\n",
    "\n",
    "= e ^ x / sum(e ^ x)'''\n",
    "\n",
    "#output = e ^ activation / sum(e ^ activation)\n",
    "\n",
    "#def transfer_function(activation_value):\n",
    "#    return(exp(activation_value) / sum(exp(activation_value)))\n",
    "def transfer_function(activation):\n",
    "    return 1 / (1 + exp(-activation))\n",
    "\n",
    "#Relu\n",
    "#def transfer_function(activation_value):\n",
    "#    (abs(activation_value) + activation_value) / 2\n",
    "#    activation_value * (activation_value > 0)\n",
    "#    activation_value[activation_value<0]=0\n",
    "#    np.maximum(activation_value, 0, activation_value)"
   ]
  },
  {
   "cell_type": "markdown",
   "metadata": {},
   "source": [
    "\n",
    "## Forward Prop\n",
    "Return the outputs from each Neuron / Layer"
   ]
  },
  {
   "cell_type": "code",
   "execution_count": 111,
   "metadata": {
    "collapsed": true
   },
   "outputs": [],
   "source": [
    "def forward_propagate(network, row):\n",
    "    inputs = row\n",
    "    for layer in network:\n",
    "        next_inputs = []\n",
    "        #print(layer)\n",
    "        for neuron in layer:\n",
    "            #print(neuron)\n",
    "            activation = activation_function(neuron['weights'], inputs)\n",
    "            neuron['output'] = transfer_function(activation)\n",
    "            next_inputs.append(neuron['output'])\n",
    "        inputs = next_inputs\n",
    "    return inputs\n",
    "        "
   ]
  },
  {
   "cell_type": "markdown",
   "metadata": {},
   "source": [
    "## Test it out!"
   ]
  },
  {
   "cell_type": "code",
   "execution_count": 112,
   "metadata": {
    "collapsed": false
   },
   "outputs": [
    {
     "name": "stdout",
     "output_type": "stream",
     "text": [
      "[0.6629970129852887, 0.7253160725279748, 0.6579788665256563]\n"
     ]
    }
   ],
   "source": [
    "from math import exp\n",
    "#network = [[{'weights': [0.13436424411240122, 0.8474337369372327, 0.763774618976614]}],\n",
    "#           [{'weights': [0.2550690257394217, 0.49543508709194095]}, {'weights': [0.4494910647887381, 0.651592972722763]}]]\n",
    "row = [1, 0, None]\n",
    "output = forward_propagate(network, row)\n",
    "print(output)"
   ]
  },
  {
   "cell_type": "markdown",
   "metadata": {},
   "source": [
    "# Back Prop The Error"
   ]
  },
  {
   "cell_type": "code",
   "execution_count": null,
   "metadata": {
    "collapsed": true
   },
   "outputs": [],
   "source": []
  }
 ],
 "metadata": {
  "kernelspec": {
   "display_name": "Python 3",
   "language": "python",
   "name": "python3"
  },
  "language_info": {
   "codemirror_mode": {
    "name": "ipython",
    "version": 3
   },
   "file_extension": ".py",
   "mimetype": "text/x-python",
   "name": "python",
   "nbconvert_exporter": "python",
   "pygments_lexer": "ipython3",
   "version": "3.6.0"
  },
  "latex_envs": {
   "LaTeX_envs_menu_present": true,
   "autocomplete": true,
   "bibliofile": "biblio.bib",
   "cite_by": "apalike",
   "current_citInitial": 1,
   "eqLabelWithNumbers": true,
   "eqNumInitial": 1,
   "hotkeys": {
    "equation": "Ctrl-E",
    "itemize": "Ctrl-I"
   },
   "labels_anchors": false,
   "latex_user_defs": false,
   "report_style_numbering": false,
   "user_envs_cfg": false
  },
  "toc": {
   "nav_menu": {},
   "number_sections": true,
   "sideBar": true,
   "skip_h1_title": false,
   "toc_cell": false,
   "toc_position": {},
   "toc_section_display": "block",
   "toc_window_display": true
  }
 },
 "nbformat": 4,
 "nbformat_minor": 2
}
